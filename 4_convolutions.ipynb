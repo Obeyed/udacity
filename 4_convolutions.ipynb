{
 "cells": [
  {
   "cell_type": "markdown",
   "metadata": {
    "colab_type": "text",
    "deletable": true,
    "editable": true,
    "id": "4embtkV0pNxM"
   },
   "source": [
    "Deep Learning\n",
    "=============\n",
    "\n",
    "Assignment 4\n",
    "------------\n",
    "\n",
    "Previously in `2_fullyconnected.ipynb` and `3_regularization.ipynb`, we trained fully connected networks to classify [notMNIST](http://yaroslavvb.blogspot.com/2011/09/notmnist-dataset.html) characters.\n",
    "\n",
    "The goal of this assignment is make the neural network convolutional."
   ]
  },
  {
   "cell_type": "code",
   "execution_count": 11,
   "metadata": {
    "cellView": "both",
    "colab": {
     "autoexec": {
      "startup": false,
      "wait_interval": 0
     }
    },
    "colab_type": "code",
    "collapsed": true,
    "deletable": true,
    "editable": true,
    "id": "tm2CQN_Cpwj0"
   },
   "outputs": [],
   "source": [
    "# These are all the modules we'll be using later. Make sure you can import them\n",
    "# before proceeding further.\n",
    "from __future__ import print_function\n",
    "import numpy as np\n",
    "import tensorflow as tf\n",
    "from six.moves import cPickle as pickle\n",
    "from six.moves import range"
   ]
  },
  {
   "cell_type": "code",
   "execution_count": 12,
   "metadata": {
    "cellView": "both",
    "colab": {
     "autoexec": {
      "startup": false,
      "wait_interval": 0
     },
     "output_extras": [
      {
       "item_id": 1
      }
     ]
    },
    "colab_type": "code",
    "collapsed": false,
    "deletable": true,
    "editable": true,
    "executionInfo": {
     "elapsed": 11948,
     "status": "ok",
     "timestamp": 1446658914837,
     "user": {
      "color": "",
      "displayName": "",
      "isAnonymous": false,
      "isMe": true,
      "permissionId": "",
      "photoUrl": "",
      "sessionId": "0",
      "userId": ""
     },
     "user_tz": 480
    },
    "id": "y3-cj1bpmuxc",
    "outputId": "016b1a51-0290-4b08-efdb-8c95ffc3cd01"
   },
   "outputs": [
    {
     "name": "stdout",
     "output_type": "stream",
     "text": [
      "Training set (200000, 28, 28) (200000,)\n",
      "Validation set (10000, 28, 28) (10000,)\n",
      "Test set (10000, 28, 28) (10000,)\n"
     ]
    }
   ],
   "source": [
    "pickle_file = 'data/notMNIST.pickle'\n",
    "\n",
    "with open(pickle_file, 'rb') as f:\n",
    "    save = pickle.load(f)\n",
    "    train_dataset = save['train_dataset']\n",
    "    train_labels = save['train_labels']\n",
    "    valid_dataset = save['valid_dataset']\n",
    "    valid_labels = save['valid_labels']\n",
    "    test_dataset = save['test_dataset']\n",
    "    test_labels = save['test_labels']\n",
    "    del save  # hint to help gc free up memory\n",
    "    print('Training set', train_dataset.shape, train_labels.shape)\n",
    "    print('Validation set', valid_dataset.shape, valid_labels.shape)\n",
    "    print('Test set', test_dataset.shape, test_labels.shape)"
   ]
  },
  {
   "cell_type": "markdown",
   "metadata": {
    "colab_type": "text",
    "deletable": true,
    "editable": true,
    "id": "L7aHrm6nGDMB"
   },
   "source": [
    "Reformat into a TensorFlow-friendly shape:\n",
    "- convolutions need the image data formatted as a cube (width by height by #channels)\n",
    "- labels as float 1-hot encodings."
   ]
  },
  {
   "cell_type": "code",
   "execution_count": 13,
   "metadata": {
    "cellView": "both",
    "colab": {
     "autoexec": {
      "startup": false,
      "wait_interval": 0
     },
     "output_extras": [
      {
       "item_id": 1
      }
     ]
    },
    "colab_type": "code",
    "collapsed": false,
    "deletable": true,
    "editable": true,
    "executionInfo": {
     "elapsed": 11952,
     "status": "ok",
     "timestamp": 1446658914857,
     "user": {
      "color": "",
      "displayName": "",
      "isAnonymous": false,
      "isMe": true,
      "permissionId": "",
      "photoUrl": "",
      "sessionId": "0",
      "userId": ""
     },
     "user_tz": 480
    },
    "id": "IRSyYiIIGIzS",
    "outputId": "650a208c-8359-4852-f4f5-8bf10e80ef6c"
   },
   "outputs": [
    {
     "name": "stdout",
     "output_type": "stream",
     "text": [
      "Training set (200000, 28, 28, 1) (200000, 10)\n",
      "Validation set (10000, 28, 28, 1) (10000, 10)\n",
      "Test set (10000, 28, 28, 1) (10000, 10)\n"
     ]
    }
   ],
   "source": [
    "image_size = 28\n",
    "num_labels = 10\n",
    "num_channels = 1 # grayscale\n",
    "\n",
    "def reformat(dataset, labels):\n",
    "    dataset = dataset.reshape((-1, image_size, image_size, num_channels)).astype(np.float32)\n",
    "    labels = (np.arange(num_labels) == labels[:,None]).astype(np.float32)\n",
    "    return dataset, labels\n",
    "train_dataset, train_labels = reformat(train_dataset, train_labels)\n",
    "valid_dataset, valid_labels = reformat(valid_dataset, valid_labels)\n",
    "test_dataset, test_labels = reformat(test_dataset, test_labels)\n",
    "print('Training set', train_dataset.shape, train_labels.shape)\n",
    "print('Validation set', valid_dataset.shape, valid_labels.shape)\n",
    "print('Test set', test_dataset.shape, test_labels.shape)"
   ]
  },
  {
   "cell_type": "code",
   "execution_count": 14,
   "metadata": {
    "cellView": "both",
    "colab": {
     "autoexec": {
      "startup": false,
      "wait_interval": 0
     }
    },
    "colab_type": "code",
    "collapsed": true,
    "deletable": true,
    "editable": true,
    "id": "AgQDIREv02p1"
   },
   "outputs": [],
   "source": [
    "def accuracy(predictions, labels):\n",
    "    return (100.0 * np.sum(np.argmax(predictions, 1) == np.argmax(labels, 1))\n",
    "          / predictions.shape[0])"
   ]
  },
  {
   "cell_type": "markdown",
   "metadata": {
    "colab_type": "text",
    "deletable": true,
    "editable": true,
    "id": "5rhgjmROXu2O"
   },
   "source": [
    "Let's build a small network with two convolutional layers, followed by one fully connected layer. Convolutional networks are more expensive computationally, so we'll limit its depth and number of fully connected nodes."
   ]
  },
  {
   "cell_type": "code",
   "execution_count": 29,
   "metadata": {
    "cellView": "both",
    "colab": {
     "autoexec": {
      "startup": false,
      "wait_interval": 0
     }
    },
    "colab_type": "code",
    "collapsed": true,
    "deletable": true,
    "editable": true,
    "id": "IZYv70SvvOan"
   },
   "outputs": [],
   "source": [
    "batch_size = 16\n",
    "patch_size = 5\n",
    "depth = 16\n",
    "num_hidden = 64\n",
    "\n",
    "graph = tf.Graph()\n",
    "\n",
    "with graph.as_default():\n",
    "    # Input data.\n",
    "    tf_train_dataset = tf.placeholder(tf.float32, shape=(batch_size, image_size, image_size, num_channels))\n",
    "    tf_train_labels = tf.placeholder(tf.float32, shape=(batch_size, num_labels))\n",
    "    tf_valid_dataset = tf.constant(valid_dataset)\n",
    "    tf_test_dataset = tf.constant(test_dataset)\n",
    "\n",
    "    # Variables.\n",
    "    layer1_weights = tf.Variable(\n",
    "        tf.truncated_normal([patch_size, patch_size, num_channels, depth], \n",
    "                            stddev=0.1))\n",
    "    layer1_biases = tf.Variable(tf.zeros([depth]))\n",
    "    layer2_weights = tf.Variable(\n",
    "        tf.truncated_normal([patch_size, patch_size, depth, depth], \n",
    "                            stddev=0.1))\n",
    "    layer2_biases = tf.Variable(tf.constant(1.0, shape=[depth]))\n",
    "    layer3_weights = tf.Variable(\n",
    "        tf.truncated_normal([image_size // 4 * image_size // 4 * depth, num_hidden], \n",
    "                            stddev=0.1))\n",
    "    layer3_biases = tf.Variable(tf.constant(1.0, shape=[num_hidden]))\n",
    "    layer4_weights = tf.Variable(tf.truncated_normal([num_hidden, num_labels], stddev=0.1))\n",
    "    layer4_biases = tf.Variable(tf.constant(1.0, shape=[num_labels]))\n",
    "  \n",
    "    # Model.\n",
    "    def model(data):\n",
    "        conv = tf.nn.conv2d(data, layer1_weights, [1, 2, 2, 1], padding='SAME')\n",
    "        hidden = tf.nn.relu(conv + layer1_biases)\n",
    "        conv = tf.nn.conv2d(hidden, layer2_weights, [1, 2, 2, 1], padding='SAME')\n",
    "        hidden = tf.nn.relu(conv + layer2_biases)\n",
    "        shape = hidden.get_shape().as_list()\n",
    "        reshape = tf.reshape(hidden, [shape[0], shape[1] * shape[2] * shape[3]])\n",
    "        hidden = tf.nn.relu(tf.matmul(reshape, layer3_weights) + layer3_biases)\n",
    "        return tf.matmul(hidden, layer4_weights) + layer4_biases\n",
    "  \n",
    "    # Training computation.\n",
    "    logits = model(tf_train_dataset)\n",
    "    loss = tf.reduce_mean(tf.nn.softmax_cross_entropy_with_logits(labels=tf_train_labels, logits=logits))\n",
    "\n",
    "    # Optimizer.\n",
    "    optimizer = tf.train.GradientDescentOptimizer(0.05).minimize(loss)\n",
    "  \n",
    "    # Predictions for the training, validation, and test data.\n",
    "    train_prediction = tf.nn.softmax(logits)\n",
    "    valid_prediction = tf.nn.softmax(model(tf_valid_dataset))\n",
    "    test_prediction = tf.nn.softmax(model(tf_test_dataset))"
   ]
  },
  {
   "cell_type": "code",
   "execution_count": 30,
   "metadata": {
    "cellView": "both",
    "colab": {
     "autoexec": {
      "startup": false,
      "wait_interval": 0
     },
     "output_extras": [
      {
       "item_id": 37
      }
     ]
    },
    "colab_type": "code",
    "collapsed": false,
    "deletable": true,
    "editable": true,
    "executionInfo": {
     "elapsed": 63292,
     "status": "ok",
     "timestamp": 1446658966251,
     "user": {
      "color": "",
      "displayName": "",
      "isAnonymous": false,
      "isMe": true,
      "permissionId": "",
      "photoUrl": "",
      "sessionId": "0",
      "userId": ""
     },
     "user_tz": 480
    },
    "id": "noKFb2UovVFR",
    "outputId": "28941338-2ef9-4088-8bd1-44295661e628"
   },
   "outputs": [
    {
     "name": "stdout",
     "output_type": "stream",
     "text": [
      "Initialized\n",
      "Minibatch loss at step 0: 3.248662\n",
      "Minibatch accuracy: 6.2%\n",
      "Validation accuracy: 10.0%\n",
      "Minibatch loss at step 1000: 0.830804\n",
      "Minibatch accuracy: 75.0%\n",
      "Validation accuracy: 82.8%\n",
      "Minibatch loss at step 2000: 0.321504\n",
      "Minibatch accuracy: 87.5%\n",
      "Validation accuracy: 85.3%\n",
      "Minibatch loss at step 3000: 0.676590\n",
      "Minibatch accuracy: 75.0%\n",
      "Validation accuracy: 86.5%\n",
      "Minibatch loss at step 4000: 1.386534\n",
      "Minibatch accuracy: 75.0%\n",
      "Validation accuracy: 87.0%\n",
      "Minibatch loss at step 5000: 0.422354\n",
      "Minibatch accuracy: 87.5%\n",
      "Validation accuracy: 86.9%\n",
      "Minibatch loss at step 6000: 1.264927\n",
      "Minibatch accuracy: 68.8%\n",
      "Validation accuracy: 86.8%\n",
      "Minibatch loss at step 7000: 0.491627\n",
      "Minibatch accuracy: 81.2%\n",
      "Validation accuracy: 87.2%\n",
      "Minibatch loss at step 8000: 0.270384\n",
      "Minibatch accuracy: 93.8%\n",
      "Validation accuracy: 87.8%\n",
      "Test accuracy: 93.8%\n"
     ]
    }
   ],
   "source": [
    "num_steps = 8001\n",
    "\n",
    "def run_graph(graph, batched_valid_and_test=False):\n",
    "    with tf.Session(graph=graph) as session:\n",
    "        tf.global_variables_initializer().run()\n",
    "        print('Initialized')\n",
    "        non_training_dict = {}\n",
    "        for step in range(num_steps):\n",
    "            offset = (step * batch_size) % (train_labels.shape[0] - batch_size)\n",
    "            batch_data = train_dataset[offset:(offset + batch_size), :, :, :]\n",
    "            batch_labels = train_labels[offset:(offset + batch_size), :]\n",
    "            feed_dict = {tf_train_dataset : batch_data, tf_train_labels : batch_labels}\n",
    "            _, l, predictions = session.run([optimizer, loss, train_prediction], feed_dict=feed_dict)\n",
    "            if (step % 1000 == 0):\n",
    "                print('Minibatch loss at step %d: %f' % (step, l))\n",
    "                print('Minibatch accuracy: %.1f%%' % accuracy(predictions, batch_labels))\n",
    "                if batched_valid_and_test:\n",
    "                    valid_accs = []\n",
    "                    for batch_n in range(len(valid_dataset)//batch_size):\n",
    "                        offset = (batch_n * batch_size)\n",
    "                        batch_data = valid_dataset[offset:(offset + batch_size), :, :, :]\n",
    "                        batch_labels = valid_labels[offset:(offset + batch_size), :]\n",
    "                        feed_dict = {tf_valid_dataset : batch_data}\n",
    "                        \n",
    "                        valid_accs.append(accuracy(session.run(valid_prediction, feed_dict=feed_dict), batch_labels))\n",
    "                    valid_acc = np.mean(valid_accs)\n",
    "                else:\n",
    "                    valid_acc = accuracy(session.run(valid_prediction, feed_dict={}), valid_labels)\n",
    "                print('Validation accuracy: %.1f%%' % valid_acc)\n",
    "        if batched_valid_and_test:\n",
    "            test_accs = []\n",
    "            for batch_n in range(len(test_dataset)//batch_size):\n",
    "                offset = (batch_n * batch_size)\n",
    "                batch_data = test_dataset[offset:(offset + batch_size), :, :, :]\n",
    "                batch_labels = test_labels[offset:(offset + batch_size), :]\n",
    "                feed_dict = {tf_test_dataset : batch_data}\n",
    "\n",
    "                test_accs.append(accuracy(session.run(test_prediction, feed_dict=feed_dict), batch_labels))\n",
    "            test_acc = np.mean(test_accs)\n",
    "        else:\n",
    "            test_acc = accuracy(session.run(test_prediction, feed_dict={}), test_labels)\n",
    "        print('Test accuracy: %.1f%%' % test_acc)\n",
    "run_graph(graph)"
   ]
  },
  {
   "cell_type": "markdown",
   "metadata": {
    "colab_type": "text",
    "deletable": true,
    "editable": true,
    "id": "KedKkn4EutIK"
   },
   "source": [
    "---\n",
    "Problem 1\n",
    "---------\n",
    "\n",
    "The convolutional model above uses convolutions with stride 2 to reduce the dimensionality. Replace the strides by a max pooling operation (`nn.max_pool()`) of stride 2 and kernel size 2.\n",
    "\n",
    "---"
   ]
  },
  {
   "cell_type": "code",
   "execution_count": 31,
   "metadata": {
    "collapsed": false,
    "deletable": true,
    "editable": true
   },
   "outputs": [],
   "source": [
    "max_pool_graph = tf.Graph()\n",
    "\n",
    "with max_pool_graph.as_default():\n",
    "    # Input data.\n",
    "    tf_train_dataset = tf.placeholder(tf.float32, shape=(batch_size, image_size, image_size, num_channels))\n",
    "    tf_train_labels = tf.placeholder(tf.float32, shape=(batch_size, num_labels))\n",
    "    tf_valid_dataset = tf.constant(valid_dataset)\n",
    "    tf_test_dataset = tf.constant(test_dataset)\n",
    "\n",
    "    # Variables.\n",
    "    layer1_weights = tf.Variable(\n",
    "        tf.truncated_normal([patch_size, patch_size, num_channels, depth], \n",
    "                            stddev=0.1))\n",
    "    layer1_biases = tf.Variable(tf.zeros([depth]))\n",
    "    layer2_weights = tf.Variable(\n",
    "        tf.truncated_normal([patch_size, patch_size, depth, depth], \n",
    "                            stddev=0.1))\n",
    "    layer2_biases = tf.Variable(tf.constant(1.0, shape=[depth]))\n",
    "    # with padding SAME:\n",
    "    layer3_weights = tf.Variable(\n",
    "        tf.truncated_normal([image_size // 4 * image_size // 4 * depth, num_hidden], \n",
    "                            stddev=0.1))\n",
    "    # with padding VALID:\n",
    "    #size_valid = ((image_size - patch_size + 1) // 2 - patch_size + 1) // 2\n",
    "    #layer3_weights = tf.Variable(\n",
    "    #    tf.truncated_normal(\n",
    "    #        [size_valid * size_valid * depth, num_hidden], stddev=0.1))\n",
    "    layer3_biases = tf.Variable(tf.constant(1.0, shape=[num_hidden]))\n",
    "    layer4_weights = tf.Variable(tf.truncated_normal([num_hidden, num_labels], stddev=0.1))\n",
    "    layer4_biases = tf.Variable(tf.constant(1.0, shape=[num_labels]))\n",
    "  \n",
    "    # Model.\n",
    "    def model(data):\n",
    "        conv = tf.nn.conv2d(data, layer1_weights, [1, 1, 1, 1], padding='SAME')\n",
    "        pool = tf.nn.max_pool(conv, ksize=[1, 2, 2, 1], strides=[1, 2, 2, 1], padding='SAME')\n",
    "        hidden = tf.nn.relu(pool + layer1_biases)\n",
    "        conv = tf.nn.conv2d(hidden, layer2_weights, [1, 1, 1, 1], padding='SAME')\n",
    "        pool = tf.nn.max_pool(conv, ksize=[1, 2, 2, 1], strides=[1, 2, 2, 1], padding='SAME')\n",
    "        hidden = tf.nn.relu(pool + layer2_biases)\n",
    "        shape = hidden.get_shape().as_list()\n",
    "        reshape = tf.reshape(hidden, [shape[0], shape[1] * shape[2] * shape[3]])\n",
    "        hidden = tf.nn.relu(tf.matmul(reshape, layer3_weights) + layer3_biases)\n",
    "        return tf.matmul(hidden, layer4_weights) + layer4_biases\n",
    "  \n",
    "    # Training computation.\n",
    "    logits = model(tf_train_dataset)\n",
    "    loss = tf.reduce_mean(tf.nn.softmax_cross_entropy_with_logits(labels=tf_train_labels, logits=logits))\n",
    "\n",
    "    # Optimizer.\n",
    "    optimizer = tf.train.GradientDescentOptimizer(0.05).minimize(loss)\n",
    "  \n",
    "    # Predictions for the training, validation, and test data.\n",
    "    train_prediction = tf.nn.softmax(logits)\n",
    "    valid_prediction = tf.nn.softmax(model(tf_valid_dataset))\n",
    "    test_prediction = tf.nn.softmax(model(tf_test_dataset))"
   ]
  },
  {
   "cell_type": "code",
   "execution_count": 32,
   "metadata": {
    "collapsed": false,
    "deletable": true,
    "editable": true
   },
   "outputs": [
    {
     "name": "stdout",
     "output_type": "stream",
     "text": [
      "Initialized\n",
      "Minibatch loss at step 0: 3.313531\n",
      "Minibatch accuracy: 6.2%\n",
      "Validation accuracy: 10.0%\n",
      "Minibatch loss at step 1000: 0.787105\n",
      "Minibatch accuracy: 68.8%\n",
      "Validation accuracy: 83.4%\n",
      "Minibatch loss at step 2000: 0.248685\n",
      "Minibatch accuracy: 93.8%\n",
      "Validation accuracy: 86.7%\n",
      "Minibatch loss at step 3000: 0.665659\n",
      "Minibatch accuracy: 75.0%\n",
      "Validation accuracy: 87.5%\n",
      "Minibatch loss at step 4000: 1.309809\n",
      "Minibatch accuracy: 75.0%\n",
      "Validation accuracy: 88.1%\n",
      "Minibatch loss at step 5000: 0.470222\n",
      "Minibatch accuracy: 81.2%\n",
      "Validation accuracy: 88.4%\n",
      "Minibatch loss at step 6000: 1.047400\n",
      "Minibatch accuracy: 68.8%\n",
      "Validation accuracy: 87.8%\n",
      "Minibatch loss at step 7000: 0.483890\n",
      "Minibatch accuracy: 81.2%\n",
      "Validation accuracy: 88.5%\n",
      "Minibatch loss at step 8000: 0.172545\n",
      "Minibatch accuracy: 93.8%\n",
      "Validation accuracy: 88.8%\n",
      "Test accuracy: 94.2%\n"
     ]
    }
   ],
   "source": [
    "run_graph(max_pool_graph)"
   ]
  },
  {
   "cell_type": "markdown",
   "metadata": {
    "deletable": true,
    "editable": true
   },
   "source": [
    "- Max pooling with stride 2, kernel size 2, and padding SAME gave below 1% accuracy boost.\n",
    "- With padding VALID the accuracy was worse than before."
   ]
  },
  {
   "cell_type": "markdown",
   "metadata": {
    "colab_type": "text",
    "deletable": true,
    "editable": true,
    "id": "klf21gpbAgb-"
   },
   "source": [
    "---\n",
    "Problem 2\n",
    "---------\n",
    "\n",
    "Try to get the best performance you can using a convolutional net. Look for example at the classic [LeNet5](http://yann.lecun.com/exdb/lenet/) architecture, adding Dropout, and/or adding learning rate decay.\n",
    "\n",
    "---"
   ]
  },
  {
   "cell_type": "code",
   "execution_count": 83,
   "metadata": {
    "collapsed": false,
    "deletable": true,
    "editable": true
   },
   "outputs": [],
   "source": [
    "batch_size = 100\n",
    "patch_size = 3\n",
    "layer1_depth = 6\n",
    "layer2_depth = 16\n",
    "layer3_depth = 120\n",
    "num_hidden = 256\n",
    "\n",
    "final_graph = tf.Graph()\n",
    "\n",
    "with final_graph.as_default():\n",
    "    # Input data.\n",
    "    tf_train_dataset = tf.placeholder(tf.float32, shape=(batch_size, image_size, image_size, num_channels))\n",
    "    tf_train_labels = tf.placeholder(tf.float32, shape=(batch_size, num_labels))\n",
    "    tf_valid_dataset = tf.constant(valid_dataset)\n",
    "    tf_test_dataset = tf.constant(test_dataset)\n",
    "    \n",
    "    # Variables.\n",
    "    # conv (3x3), stride 1 -> relu -> pool (kernel:2, stride:2)\n",
    "    layer1_kernel = tf.Variable(\n",
    "        tf.truncated_normal([patch_size, patch_size, num_channels, layer1_depth], \n",
    "                            stddev=0.1))\n",
    "    layer1_biases = tf.Variable(tf.zeros([layer1_depth]))\n",
    "    # conv (3x3), stride 1 -> relu -> pool (kernel:2, stride:2)\n",
    "    layer2_kernel = tf.Variable(\n",
    "        tf.truncated_normal([patch_size, patch_size, layer1_depth, layer2_depth], \n",
    "                            stddev=0.1))\n",
    "    layer2_biases = tf.Variable(tf.constant(1.0, shape=[layer2_depth]))\n",
    "    # conv (3x3), stride 1 -> relu -> pool (kernel:2, stride:2)\n",
    "    layer3_kernel = tf.Variable(\n",
    "        tf.truncated_normal([patch_size, patch_size, layer2_depth, layer3_depth], \n",
    "                            stddev=0.1))\n",
    "    layer3_biases = tf.Variable(tf.constant(1.0, shape=[layer3_depth]))\n",
    "    # conv (3x3), stride 1 -> relu -> pool (kernel:2, stride: 2)\n",
    "    layer4_weights = tf.Variable(\n",
    "        tf.truncated_normal([4 * 4 * layer3_depth, num_hidden], \n",
    "                            stddev=0.1))\n",
    "    layer4_biases = tf.Variable(tf.constant(1.0, shape=[num_hidden]))\n",
    "    # fully connected\n",
    "    layer5_weights = tf.Variable(tf.truncated_normal([num_hidden, num_labels], stddev=0.1))\n",
    "    layer5_biases = tf.Variable(tf.constant(1.0, shape=[num_labels]))\n",
    "  \n",
    "    # Model.\n",
    "    def model(data, train=False):\n",
    "        conv = tf.nn.conv2d(data, layer1_kernel, [1, 1, 1, 1], padding='SAME')\n",
    "        hidden = tf.nn.relu(conv + layer1_biases)\n",
    "        pool = tf.nn.avg_pool(hidden, ksize=[1, 2, 2, 1], strides=[1, 2, 2, 1], padding='SAME')\n",
    "        conv = tf.nn.conv2d(pool, layer2_kernel, [1, 1, 1, 1], padding='SAME')\n",
    "        hidden = tf.nn.relu(conv + layer2_biases)\n",
    "        pool = tf.nn.avg_pool(hidden, ksize=[1, 2, 2, 1], strides=[1, 2, 2, 1], padding='SAME')\n",
    "        conv = tf.nn.conv2d(pool, layer3_kernel, [1, 1, 1, 1], padding='SAME')\n",
    "        hidden = tf.nn.relu(conv + layer3_biases)\n",
    "        pool = tf.nn.avg_pool(hidden, ksize=[1, 2, 2, 1], strides=[1, 2, 2, 1], padding='SAME')\n",
    "        shape = pool.get_shape().as_list()\n",
    "        reshape = tf.reshape(pool, [shape[0], shape[1] * shape[2] * shape[3]])\n",
    "        fully_connected = tf.nn.relu(tf.matmul(reshape, layer4_weights) + layer4_biases)\n",
    "        logits = tf.matmul(fully_connected, layer5_weights) + layer5_biases\n",
    "        return logits\n",
    "  \n",
    "    # Training computation.\n",
    "    logits = model(tf_train_dataset, train=True)\n",
    "    loss = tf.reduce_mean(tf.nn.softmax_cross_entropy_with_logits(labels=tf_train_labels, logits=logits))\n",
    "\n",
    "    # Optimizer.\n",
    "    optimizer = tf.train.AdamOptimizer().minimize(loss)\n",
    "  \n",
    "    # Predictions for the training, validation, and test data.\n",
    "    train_prediction = tf.nn.softmax(logits)\n",
    "    valid_prediction = tf.nn.softmax(model(tf_valid_dataset))\n",
    "    test_prediction = tf.nn.softmax(model(tf_test_dataset))"
   ]
  },
  {
   "cell_type": "code",
   "execution_count": 84,
   "metadata": {
    "collapsed": false,
    "deletable": true,
    "editable": true
   },
   "outputs": [
    {
     "name": "stdout",
     "output_type": "stream",
     "text": [
      "Initialized\n",
      "Minibatch loss at step 0: 7.890035\n",
      "Minibatch accuracy: 9.0%\n",
      "Validation accuracy: 10.0%\n",
      "Minibatch loss at step 1000: 0.634369\n",
      "Minibatch accuracy: 79.0%\n",
      "Validation accuracy: 85.6%\n",
      "Minibatch loss at step 2000: 0.467059\n",
      "Minibatch accuracy: 88.0%\n",
      "Validation accuracy: 87.6%\n",
      "Minibatch loss at step 3000: 0.426319\n",
      "Minibatch accuracy: 86.0%\n",
      "Validation accuracy: 88.7%\n",
      "Minibatch loss at step 4000: 0.321018\n",
      "Minibatch accuracy: 92.0%\n",
      "Validation accuracy: 89.3%\n",
      "Minibatch loss at step 5000: 0.397659\n",
      "Minibatch accuracy: 86.0%\n",
      "Validation accuracy: 89.9%\n",
      "Minibatch loss at step 6000: 0.277665\n",
      "Minibatch accuracy: 92.0%\n",
      "Validation accuracy: 90.2%\n",
      "Minibatch loss at step 7000: 0.233348\n",
      "Minibatch accuracy: 92.0%\n",
      "Validation accuracy: 90.6%\n",
      "Minibatch loss at step 8000: 0.189876\n",
      "Minibatch accuracy: 95.0%\n",
      "Validation accuracy: 90.6%\n",
      "Test accuracy: 96.1%\n"
     ]
    }
   ],
   "source": [
    "run_graph(final_graph, batched_valid_and_test=False)"
   ]
  },
  {
   "cell_type": "markdown",
   "metadata": {},
   "source": [
    "- Just adding dropout made the accuracy worse.\n",
    "- Learning rate decay with `tf.train.exponential_decay(learning_rate, global_step, 100, 0.96, staircase=True)` did not help\n",
    "- AdamOptimizer (default params) with dropout was not better\n",
    "- removed dropout and kept Adam, accuracy rose to above 94 %.\n",
    "- added L2 loss regulariser, better than dropout, but did not improve much\n",
    "- tried moving the pooling after the activation function, no significant change (think this is the convention)\n",
    "- replaced `max_pool` by `avg_pool`, no significant change\n",
    "- add dropout before final layer, no significant change\n",
    "- increase batch size to 50, about 1 % higher accuracy\n",
    "- increase batch size 100, move dropout before the final layer, no significant change\n",
    "- removed dropout for the 4 layer network, 1 % accuracy boost (~96%)\n",
    " - network is not complicated enough for the dropout to work properly\n",
    "- tried with deeper layers with larger dens layer (256) (appr same accuracy ~96%)\n",
    " - 64 feature maps (depth) in first conv layer\n",
    " - 32 feature maps in second conv layer\n",
    "- feature maps of 6 and 16 and dense layer of 500 connections gave appr. same accuracy\n",
    "- added extra conv and pool layer with relu with depth 32, not much difference\n",
    "- changed depth to 120, not much difference"
   ]
  },
  {
   "cell_type": "code",
   "execution_count": 67,
   "metadata": {
    "collapsed": false
   },
   "outputs": [],
   "source": [
    "batch_size = 100\n",
    "patch_size = 3\n",
    "layer1_depth = 6\n",
    "layer2_depth = 16\n",
    "layer3_depth = 120\n",
    "num_hidden = 84\n",
    "\n",
    "lenet_graph = tf.Graph()\n",
    "\n",
    "with lenet_graph.as_default():\n",
    "    # Input data.\n",
    "    tf_train_dataset = tf.placeholder(tf.float32, shape=(batch_size, image_size, image_size, num_channels))\n",
    "    tf_train_labels = tf.placeholder(tf.float32, shape=(batch_size, num_labels))\n",
    "    tf_valid_dataset = tf.constant(valid_dataset)\n",
    "    tf_test_dataset = tf.constant(test_dataset)\n",
    "\n",
    "    # Variables.\n",
    "    # conv (1x1) -> relu -> pool (kernel:2, stride:2)\n",
    "    layer1_kernel = tf.Variable(\n",
    "        tf.truncated_normal([patch_size, patch_size, num_channels, layer1_depth], \n",
    "                            stddev=0.1))\n",
    "    layer1_biases = tf.Variable(tf.zeros([layer1_depth]))\n",
    "    # conv (1x1) -> relu -> pool (kernel:2, stride:2)\n",
    "    layer2_kernel = tf.Variable(\n",
    "        tf.truncated_normal([patch_size, patch_size, layer1_depth, layer2_depth], \n",
    "                            stddev=0.1))\n",
    "    layer2_biases = tf.Variable(tf.constant(1.0, shape=[layer2_depth]))\n",
    "    \n",
    "    layer3_kernel = tf.Variable(\n",
    "        tf.truncated_normal([patch_size, patch_size, layer2_depth, layer3_depth], \n",
    "                            stddev=0.1))\n",
    "    layer3_biases = tf.Variable(tf.constant(1.0, shape=[layer3_depth]))\n",
    "    \n",
    "    layer4_weights = tf.Variable(\n",
    "        tf.truncated_normal([2 * 2 * layer3_depth, num_hidden], \n",
    "                            stddev=0.1))\n",
    "    layer4_biases = tf.Variable(tf.constant(1.0, shape=[num_hidden]))\n",
    "    # fully connected\n",
    "    layer5_weights = tf.Variable(tf.truncated_normal([num_hidden, num_labels], stddev=0.1))\n",
    "    layer5_biases = tf.Variable(tf.constant(1.0, shape=[num_labels]))\n",
    "  \n",
    "    # Model.\n",
    "    def model(data, train=False):\n",
    "        # C1\n",
    "        conv = tf.nn.conv2d(data, layer1_kernel, [1, 1, 1, 1], padding='VALID')\n",
    "        # S2\n",
    "        pool = tf.nn.avg_pool(conv, ksize=[1, 2, 2, 1], strides=[1, 2, 2, 1], padding='SAME')\n",
    "        hidden = tf.nn.relu(pool + layer1_biases)\n",
    "        # C3\n",
    "        conv = tf.nn.conv2d(hidden, layer2_kernel, [1, 1, 1, 1], padding='VALID')\n",
    "        # S4\n",
    "        pool = tf.nn.avg_pool(conv, ksize=[1, 2, 2, 1], strides=[1, 2, 2, 1], padding='SAME')\n",
    "        hidden = tf.nn.relu(pool + layer2_biases)\n",
    "        # C5\n",
    "        conv = tf.nn.conv2d(hidden, layer3_kernel, [1, 3, 3, 1], padding='VALID')\n",
    "        hidden = tf.nn.relu(conv)\n",
    "        # F6\n",
    "        shape = hidden.get_shape().as_list()\n",
    "        reshape = tf.reshape(hidden, [shape[0], shape[1] * shape[2] * shape[3]])\n",
    "        fully_connected = tf.nn.relu(tf.matmul(reshape, layer4_weights) + layer4_biases)\n",
    "        # OUTPUT\n",
    "        logits = tf.matmul(fully_connected, layer5_weights) + layer5_biases\n",
    "        return logits\n",
    "  \n",
    "    # Training computation.\n",
    "    logits = model(tf_train_dataset, train=True)\n",
    "    loss = tf.reduce_mean(tf.nn.softmax_cross_entropy_with_logits(labels=tf_train_labels, logits=logits))\n",
    "\n",
    "    # Optimizer.\n",
    "    optimizer = tf.train.AdamOptimizer().minimize(loss)\n",
    "  \n",
    "    # Predictions for the training, validation, and test data.\n",
    "    train_prediction = tf.nn.softmax(logits)\n",
    "    valid_prediction = tf.nn.softmax(model(tf_valid_dataset))\n",
    "    test_prediction = tf.nn.softmax(model(tf_test_dataset))"
   ]
  },
  {
   "cell_type": "code",
   "execution_count": 68,
   "metadata": {
    "collapsed": false
   },
   "outputs": [
    {
     "name": "stdout",
     "output_type": "stream",
     "text": [
      "Initialized\n",
      "Minibatch loss at step 0: 3.023194\n",
      "Minibatch accuracy: 9.0%\n",
      "Validation accuracy: 10.0%\n",
      "Minibatch loss at step 1000: 0.626792\n",
      "Minibatch accuracy: 80.0%\n",
      "Validation accuracy: 85.2%\n",
      "Minibatch loss at step 2000: 0.515088\n",
      "Minibatch accuracy: 85.0%\n",
      "Validation accuracy: 86.7%\n",
      "Minibatch loss at step 3000: 0.441104\n",
      "Minibatch accuracy: 85.0%\n",
      "Validation accuracy: 87.9%\n",
      "Minibatch loss at step 4000: 0.321787\n",
      "Minibatch accuracy: 93.0%\n",
      "Validation accuracy: 88.2%\n",
      "Minibatch loss at step 5000: 0.490758\n",
      "Minibatch accuracy: 86.0%\n",
      "Validation accuracy: 88.7%\n",
      "Minibatch loss at step 6000: 0.289022\n",
      "Minibatch accuracy: 90.0%\n",
      "Validation accuracy: 88.8%\n",
      "Minibatch loss at step 7000: 0.344662\n",
      "Minibatch accuracy: 87.0%\n",
      "Validation accuracy: 89.2%\n",
      "Minibatch loss at step 8000: 0.251160\n",
      "Minibatch accuracy: 93.0%\n",
      "Validation accuracy: 89.1%\n",
      "Test accuracy: 95.2%\n"
     ]
    }
   ],
   "source": [
    "run_graph(lenet_graph, batched_valid_and_test=False)"
   ]
  },
  {
   "cell_type": "markdown",
   "metadata": {
    "deletable": true,
    "editable": true
   },
   "source": [
    "- tried something similar to LeNet5 with 7 layers (~93%)..\n",
    "    - convolution 3x3, stride 1, depth of 6, padding valid\n",
    "    - pool with stride of 2, padding same\n",
    "    - sigmoid activation\n",
    "    - convolution 3x3, stride 1, depth 16, padding valid\n",
    "    - pool with stride of 2, padding same\n",
    "    - sigmoid activation\n",
    "    - convolution 3x3, stride 1, depth 120, padding valid\n",
    "    - dense layer with 84 units\n",
    "    - logits layer\n",
    "- tried with relu activation, gave ~2% boost"
   ]
  }
 ],
 "metadata": {
  "colab": {
   "default_view": {},
   "name": "4_convolutions.ipynb",
   "provenance": [],
   "version": "0.3.2",
   "views": {}
  },
  "kernelspec": {
   "display_name": "Python 3",
   "language": "python",
   "name": "python3"
  },
  "language_info": {
   "codemirror_mode": {
    "name": "ipython",
    "version": 3
   },
   "file_extension": ".py",
   "mimetype": "text/x-python",
   "name": "python",
   "nbconvert_exporter": "python",
   "pygments_lexer": "ipython3",
   "version": "3.5.2"
  }
 },
 "nbformat": 4,
 "nbformat_minor": 0
}
